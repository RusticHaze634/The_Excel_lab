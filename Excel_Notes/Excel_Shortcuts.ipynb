{
 "cells": [
  {
   "cell_type": "markdown",
   "id": "445aad64",
   "metadata": {},
   "source": [
    "## Excel Shortcuts"
   ]
  },
  {
   "cell_type": "markdown",
   "id": "e8212744",
   "metadata": {},
   "source": [
    "### Working with rows/columns/ranges\n",
    "Ctrl + Space – Select the whole column\n",
    "\n",
    "Shift + Space – Select the whole row\n",
    "\n",
    "Ctrl + A / Ctrl + Shift + Space – Select all (Click once to select the current range, click twice to select the entire worksheet)\n",
    "\n",
    "Ctrl + Shift + Arrow keys – Select a range – from the selected cell to the end of the range\n",
    "\n",
    "Ctrl + Arrow keys – Go the end of the range\n",
    "\n",
    "Alt + ; (Semicolon) – Select visible cell only\n",
    "\n",
    "Ctrl + – (Minus) –  Delete cells/ rows/ columns\n",
    "\n",
    "Ctrl + Shift + = – Insert cells/rows/columns"
   ]
  },
  {
   "cell_type": "markdown",
   "id": "a0cbe5f4",
   "metadata": {},
   "source": [
    "### Working with Workbooks/Worksheets\n",
    "CTRL + N – Open a new Workbook\n",
    "\n",
    "Ctrl + O – Open an existing Workbook\n",
    "\n",
    "Ctrl + S – Save Workbook (Or Save As, if it’s the first time you’re saving it)\n",
    "\n",
    "F12 – Save As (Even if you already saved it!)\n",
    "\n",
    "CTRL + P – Print\n",
    "\n",
    "CTRL + F4 / CTRL + W – Close Workbook\n",
    "\n",
    "ALT + F4 – Close Excel (All workbooks)\n",
    "\n",
    "Shift + F11 – Add a new Worksheet"
   ]
  },
  {
   "cell_type": "markdown",
   "id": "4f9fc775",
   "metadata": {},
   "source": [
    "### Data entry\n",
    "Ctrl + : (Colon) – Today’s date\n",
    "\n",
    "Ctrl + Shift + : (Colon) – Current time\n",
    "\n",
    "Ctrl + D – Copy the cell above\n",
    "\n",
    "Ctrl + R  – Copy the cell to the left\n",
    "\n",
    "F2 – Edit cell / view cell formula\n",
    "\n",
    "F4 – (When editing a specific cell) Apply absolute/mixed/relative reference (For example, cell C4 will change to $C$4 – Absolute Reference)\n",
    "\n",
    "F7 – Open the spelling tool\n",
    "\n",
    "CTRL + E – Flash Fill – One of Excel’s greatest tools for auto-completing data based on examples from adjacent cells.\n",
    "\n",
    "Ctrl + C – Copy\n",
    "\n",
    "Ctrl + V – Paste\n",
    "\n",
    "Ctrl + X – Cut\n",
    "\n",
    "Ctrl + Shift + V – Paste Special"
   ]
  },
  {
   "cell_type": "markdown",
   "id": "76ef5c6d",
   "metadata": {},
   "source": [
    "### Formulas\n",
    "Ctrl + ~ (Tilde) – Shows all the formulas in the sheet\n",
    "\n",
    "F4 – (When a cell is not being edited) Repeats the last action\n",
    "\n",
    "Ctrl + Shift + Enter -Apply an array formula\n",
    "\n",
    "Ctrl + T – Define range as data table\n",
    "\n",
    "Alt + =  – Quick sum"
   ]
  },
  {
   "cell_type": "markdown",
   "id": "0a2c87e8",
   "metadata": {},
   "source": [
    "### Navigation\n",
    "Ctrl + F – Find\n",
    "\n",
    "Ctrl + H – Find and Replace\n",
    "\n",
    "Ctrl + PgUp/PgDn – Navigate between sheets\n",
    "\n",
    "Ctrl + Z  – Undo last action\n",
    "\n",
    "Ctrl + Y – Redo (Ctrl + Z)\n",
    "\n",
    "Ctrl + [  – Takes you to the cell referenced by the formula\n",
    "\n",
    "Ctrl + ]  – Takes you to the cell which is affected by the current cell\n",
    "\n",
    "F5 , then Enter (not together) – Takes you back to where you were before using ctrl + [\n",
    "\n",
    "Ctrl + Home / Ctrl + End – Go to the first cell in worksheet (A1) / Go to the last cell in the used range\n",
    "\n",
    "Ctrl + Arrow Keys – Go to the last non-empty cell (Stops when you reach an empty cell)\n",
    "\n",
    "Shift + Arrow Keys – Select cells in the direction of the Arrow Keys (One at a time)\n",
    "\n",
    "Ctrl + Shift + Arrow Keys – Select cells until the last non-empty cell (Stops when you reach an empty cell)\n",
    "\n",
    "Scroll Lock – Disable Scrolling in your Excel Workbook. Usually helpful when the Workbook is not scrolling. Click here to read more about how to disable it if you don’t have Scroll Lock key on your keyboard."
   ]
  },
  {
   "cell_type": "markdown",
   "id": "cef40147",
   "metadata": {},
   "source": [
    "### Cell editing\n",
    "Please note – These shortcuts will work when editing a specific cell. If you try these shortcuts when you’re not editing a cell, they will work differently!\n",
    "\n",
    "F2 – Edit the selected cell (instead of double-clicking it)\n",
    "\n",
    "Shift + F2 – Add a comment\n",
    "\n",
    "Alt + Enter – Line break – Start a new line in the current cell\n",
    "\n",
    "HOME – Go to the beginning of the current row within the cell which is being edited\n",
    "\n",
    "Ctrl + HOME – Go to the beginning of the edited cell\n",
    "\n",
    "END – Go to the end of the current row within the cell which is being edited\n",
    "\n",
    "Ctrl + END – Go to the end of the edited cell\n",
    "\n",
    "F9 – Shows the result of the function/part of it (Based on what is selected)\n",
    "\n",
    " \n",
    "\n",
    "### Cell Formatting\n",
    "Ctrl + 1 – Open Cell Formatting window\n",
    "\n",
    "CTRL + B – Bold text\n",
    "\n",
    "CTRL + U – Underlined Text\n",
    "\n",
    "CTRL + I – Italic Text\n",
    "\n",
    "Ctrl + 5 – Strikethrough"
   ]
  },
  {
   "cell_type": "markdown",
   "id": "3046a34e",
   "metadata": {},
   "source": [
    "### Other important shortcuts\n",
    "Ctrl + Shift + L – Apply filtering on the current range\n",
    "\n",
    "ALT + F11 – Open Visual Basic Editor"
   ]
  },
  {
   "cell_type": "code",
   "execution_count": null,
   "id": "299e0b32",
   "metadata": {},
   "outputs": [],
   "source": []
  }
 ],
 "metadata": {
  "kernelspec": {
   "display_name": "Python 3 (ipykernel)",
   "language": "python",
   "name": "python3"
  },
  "language_info": {
   "codemirror_mode": {
    "name": "ipython",
    "version": 3
   },
   "file_extension": ".py",
   "mimetype": "text/x-python",
   "name": "python",
   "nbconvert_exporter": "python",
   "pygments_lexer": "ipython3",
   "version": "3.9.7"
  }
 },
 "nbformat": 4,
 "nbformat_minor": 5
}
